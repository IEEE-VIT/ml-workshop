{
 "cells": [
  {
   "cell_type": "markdown",
   "metadata": {},
   "source": [
    "# Binary Logistic Regression"
   ]
  },
  {
   "cell_type": "code",
   "execution_count": 38,
   "metadata": {
    "collapsed": true
   },
   "outputs": [],
   "source": [
    "# The code doesnt run without me!\n",
    "import numpy as np # for matrix operations\n",
    "import matplotlib.pyplot as plt # To plot nice graphs! \n",
    "from sklearn import linear_model # We get the data from here! And our model!!\n",
    "from sklearn.model_selection import train_test_split"
   ]
  },
  {
   "cell_type": "code",
   "execution_count": 49,
   "metadata": {
    "collapsed": false
   },
   "outputs": [],
   "source": [
    "# Get the data to code! \n",
    "X = np.array([[5.1, 3.5],\n",
    " [4.9, 3. ],\n",
    " [4.7 ,3.2],\n",
    " [4.6 ,3.1],\n",
    " [5.,  3.6],\n",
    " [5.4, 3.9],\n",
    " [4.6 ,3.4],\n",
    " [5. , 3.4],\n",
    " [4.4, 2.9],\n",
    " [4.9, 3.1],\n",
    " [5.4, 3.7],\n",
    " [4.8, 3.4],\n",
    " [4.8, 3. ],\n",
    " [4.3, 3. ],\n",
    " [5.8, 4. ],\n",
    " [5.7, 4.4],\n",
    " [5.4 ,3.9],\n",
    " [5.1 ,3.5],\n",
    " [5.7 ,3.8],\n",
    " [5.1 ,3.8],\n",
    " [5.4 ,3.4],\n",
    " [5.1 ,3.7],\n",
    " [4.6 ,3.6],\n",
    " [5.1 ,3.3],\n",
    " [4.8 ,3.4],\n",
    " [5.  ,3. ],\n",
    " [5.  ,3.4],\n",
    " [5.2 ,3.5],\n",
    " [5.2 ,3.4],\n",
    " [4.7 ,3.2],\n",
    " [4.8 ,3.1],\n",
    " [5.4 ,3.4],\n",
    " [5.2 ,4.1],\n",
    " [5.5 ,4.2],\n",
    " [4.9 ,3.1],\n",
    " [5.  ,3.2],\n",
    " [5.5 ,3.5],\n",
    " [4.9 ,3.1],\n",
    " [4.4 ,3. ],\n",
    " [5.1 ,3.4],\n",
    " [5.  ,3.5],\n",
    " [4.5 ,2.3],\n",
    " [4.4 ,3.2],\n",
    " [5.  ,3.5],\n",
    " [5.1 ,3.8],\n",
    " [4.8 ,3. ],\n",
    " [5.1 ,3.8],\n",
    " [4.6 ,3.2],\n",
    " [5.3 ,3.7],\n",
    " [5.  ,3.3],\n",
    " [7.  ,3.2],\n",
    " [6.4 ,3.2],\n",
    " [6.9 ,3.1],\n",
    " [5.5, 2.3],\n",
    " [6.5, 2.8],\n",
    " [5.7, 2.8],\n",
    " [6.3 ,3.3],\n",
    " [4.9, 2.4],\n",
    " [6.6 ,2.9],\n",
    " [5.2 ,2.7],\n",
    " [5.  ,2. ],\n",
    " [5.9 ,3. ],\n",
    " [6.  ,2.2],\n",
    " [6.1 ,2.9],\n",
    " [5.6 ,2.9],\n",
    " [6.7 ,3.1],\n",
    " [5.6 ,3. ],\n",
    " [5.8 ,2.7],\n",
    " [6.2 ,2.2],\n",
    " [5.6 ,2.5],\n",
    " [5.9 ,3.2],\n",
    " [6.1 ,2.8],\n",
    " [6.3 ,2.5],\n",
    " [6.1 ,2.8],\n",
    " [6.4 ,2.9],\n",
    " [6.6 ,3. ],\n",
    " [6.8 ,2.8],\n",
    " [6.7 ,3. ],\n",
    " [6.  ,2.9],\n",
    " [5.7 ,2.6],\n",
    " [5.5 ,2.4],\n",
    " [5.5 ,2.4],\n",
    " [5.8 ,2.7],\n",
    " [6.  ,2.7],\n",
    " [5.4 ,3. ],\n",
    " [6.  ,3.4],\n",
    " [6.7 ,3.1],\n",
    " [6.3 ,2.3],\n",
    " [5.6 ,3. ],\n",
    " [5.5 ,2.5],\n",
    " [5.5 ,2.6],\n",
    " [6.1 ,3. ],\n",
    " [5.8 ,2.6],\n",
    " [5.  ,2.3],\n",
    " [5.6 ,2.7],\n",
    " [5.7 ,0 ],\n",
    " [5.7 ,2.9],\n",
    " [6.2 ,2.9],\n",
    " [5.1 ,2.5],\n",
    " [5.7 ,2.8]])\n",
    "Y = np.array([0 ,0, 0, 0, 0, 0, 0, 0, 0, 0, 0, 0, 0, 0, 0, 0, 0, 0 ,0 ,0 ,0 ,0 ,0 ,0 ,0 ,0 ,0, 0, 0, 0, 0, 0, 0, 0, 0, 0, 0,\n",
    " 0, 0, 0, 0, 0, 0, 0, 0, 0, 0, 0, 0, 0, 1, 1, 1, 1, 1, 1, 1, 1, 1, 1, 1, 1, 1, 1, 1, 1, 1 ,1 ,1 ,1, 1, 1, 1, 1,\n",
    " 1, 1, 1, 1, 1, 1, 1, 1, 1, 1, 1, 1, 1, 1, 1, 1, 1, 1, 1, 1, 1, 1, 1, 1, 1, 1])\n",
    "X_train, X_test, y_train, y_test = train_test_split(X, Y, test_size=0.3, random_state=42)"
   ]
  },
  {
   "cell_type": "markdown",
   "metadata": {},
   "source": [
    "### z=B+W1(Studied)+W2(Slept)\n",
    "### h = activation(z)"
   ]
  },
  {
   "cell_type": "code",
   "execution_count": 50,
   "metadata": {
    "collapsed": false
   },
   "outputs": [
    {
     "data": {
      "text/plain": [
       "LogisticRegression(C=1.0, class_weight=None, dual=False, fit_intercept=True,\n",
       "          intercept_scaling=1, max_iter=100, multi_class='ovr', n_jobs=1,\n",
       "          penalty='l2', random_state=None, solver='liblinear', tol=0.0001,\n",
       "          verbose=0, warm_start=False)"
      ]
     },
     "execution_count": 50,
     "metadata": {},
     "output_type": "execute_result"
    }
   ],
   "source": [
    "# Does the logistic regression! \n",
    "logreg = linear_model.LogisticRegression() # The model! \n",
    "# we create an instance of Neighbours Classifier and fit the data.\n",
    "logreg.fit(X_train, y_train)"
   ]
  },
  {
   "cell_type": "code",
   "execution_count": 57,
   "metadata": {
    "collapsed": false
   },
   "outputs": [
    {
     "name": "stdout",
     "output_type": "stream",
     "text": [
      "[[3.9  1.8 ]\n",
      " [3.92 1.8 ]\n",
      " [3.94 1.8 ]\n",
      " ...\n",
      " [7.24 4.9 ]\n",
      " [7.26 4.9 ]\n",
      " [7.28 4.9 ]]\n"
     ]
    },
    {
     "data": {
      "image/png": "[encoded data removed]",
      "text/plain": [
       "<matplotlib.figure.Figure at 0x1f813661470>"
      ]
     },
     "metadata": {},
     "output_type": "display_data"
    }
   ],
   "source": [
    "# Plot the decision boundary. For that, we will assign a color to each\n",
    "# point in the mesh [x_min, x_max]x[y_min, y_max].\n",
    "h = .02  # step size in the mesh\n",
    "x_min, x_max = X_test[:, 0].min() - .5, X_test[:, 0].max() + .5\n",
    "y_min, y_max = X_test[:, 1].min() - .5, X_test[:, 1].max() + .5\n",
    "xx, yy = np.meshgrid(np.arange(x_min, x_max, h), np.arange(y_min, y_max, h))\n",
    "print(np.c_[xx.ravel(), yy.ravel()])\n",
    "Z = logreg.predict(np.c_[xx.ravel(), yy.ravel()])\n",
    "\n",
    "# Put the result into a color plot\n",
    "Z = Z.reshape(xx.shape)\n",
    "plt.figure(1, figsize=(4, 3))\n",
    "plt.pcolormesh(xx, yy, Z, cmap=plt.cm.Paired)\n",
    "\n",
    "# Plot also the training points\n",
    "plt.scatter(X_test[:, 0], X_test[:, 1], c=y_test, edgecolors='k', cmap=plt.cm.Paired)\n",
    "plt.xlabel('Hours Slept')\n",
    "plt.ylabel('Hours Studied')\n",
    "\n",
    "plt.xlim(xx.min(), xx.max())\n",
    "plt.ylim(yy.min(), yy.max())\n",
    "plt.xticks(())\n",
    "plt.yticks(())\n",
    "\n",
    "plt.show()"
   ]
  }
 ],
 "metadata": {
  "kernelspec": {
   "display_name": "Python 3",
   "language": "python",
   "name": "python3"
  },
  "language_info": {
   "codemirror_mode": {
    "name": "ipython",
    "version": 3
   },
   "file_extension": ".py",
   "mimetype": "text/x-python",
   "name": "python",
   "nbconvert_exporter": "python",
   "pygments_lexer": "ipython3",
   "version": "3.6.0"
  }
 },
 "nbformat": 4,
 "nbformat_minor": 2
}
